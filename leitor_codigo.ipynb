{
 "cells": [
  {
   "cell_type": "code",
   "execution_count": 123,
   "id": "5f2cc7f0",
   "metadata": {},
   "outputs": [],
   "source": [
    "# Autor: Lucas Gabriel Malheiros Machado Silva\n",
    "# Programa: leitura de código de barras de boletos\n",
    "# Data: 30/07/2022\n",
    "# Modificações:"
   ]
  },
  {
   "cell_type": "code",
   "execution_count": 124,
   "id": "64d8e60e",
   "metadata": {},
   "outputs": [],
   "source": [
    "# As funções foram desenvolvidas de acordo com a versão 06 do\n",
    "# '“Layout” Padrão de Arrecadação/Recebimento com Utilização do Código de Barras' da FEBRABAN"
   ]
  },
  {
   "cell_type": "code",
   "execution_count": 125,
   "id": "5b148a45",
   "metadata": {},
   "outputs": [],
   "source": [
    "# Códigos para teste\n",
    "\n",
    "# a) 83650000000 51680123202 20818046108 00001900324\n",
    "# b) 83610000000 49120123202 20718046108 00001882658\n",
    "# c) 826000000008481300892025206080011631790520221702"
   ]
  },
  {
   "cell_type": "code",
   "execution_count": 126,
   "id": "348c9c09",
   "metadata": {},
   "outputs": [],
   "source": [
    "def valor_conta(codigo_barras):\n",
    "    \"\"\"Recebe um código de barras e realiza a interpretação do valor\n",
    "    a ser pago pelo consumidor\"\"\"\n",
    "    valor = codigo_barras[4:15]\n",
    "    valor = float(valor)/100\n",
    "    return valor"
   ]
  },
  {
   "cell_type": "code",
   "execution_count": 127,
   "id": "91e9f475",
   "metadata": {},
   "outputs": [],
   "source": [
    "def tipo_conta(codigo_barras):\n",
    "    \"\"\"Realiza a associação entre o dígito identificador do código de \n",
    "    barras e seu segmento \"\"\"\n",
    "    id_segmento = int(codigo_barras[1])\n",
    "    if id_segmento == 1:\n",
    "        segmento = 'Prefeitura'\n",
    "    elif id_segmento == 2:\n",
    "        segmento = 'Saneamento'\n",
    "    elif id_segmento == 3:\n",
    "        segmento = 'Energia elétrica e gás'\n",
    "    elif id_segmento == 4:\n",
    "        segmento = 'Telecomunicações'\n",
    "    elif id_segmento == 5:\n",
    "        segmento = 'Órgãos governamentais'\n",
    "    elif id_segmento == 6:\n",
    "        segmento = 'Carnes e assemelhados ou demais empresas'\n",
    "    elif id_segmento == 7:\n",
    "        segmento = 'Multa de trânsito'\n",
    "    return segmento"
   ]
  },
  {
   "cell_type": "code",
   "execution_count": 128,
   "id": "565563ba",
   "metadata": {},
   "outputs": [],
   "source": [
    "def vencimento(codigo_barras):\n",
    "    \"\"\"Realiza a leitura da data de vencimento quando presente nas 8 primeiras\n",
    "    posições do campo livre, de acordo com as especificações da FEBRABAN\"\"\"\n",
    "    data = codigo_barras[19:27]\n",
    "    dia = data[-2:]\n",
    "    mes = data[4:6]\n",
    "    ano = int(data[:4])\n",
    "    if ano in range(2000, 2024):\n",
    "        return '{}/{}/{}'.format(dia, mes, ano)\n",
    "    else:\n",
    "        return 'Data não informada de acordo com as especificações'"
   ]
  },
  {
   "cell_type": "code",
   "execution_count": 129,
   "id": "31a70903",
   "metadata": {},
   "outputs": [],
   "source": [
    "def leitura(codigo_barras):\n",
    "    \"\"\"Realiza a leitura e exposição das informações relevantes\n",
    "    do código de barras\"\"\"\n",
    "    # Remover espaços da entrada do código\n",
    "    codigo_barras = codigo_barras.split()\n",
    "    codigo_barras = ''.join(codigo_barras)\n",
    "    # Remove dígitos verificadores do código caso existam\n",
    "    if len(codigo_barras) == 48:\n",
    "        codigo_barras = list(codigo_barras)\n",
    "        codigo_barras.pop(11)\n",
    "        codigo_barras.pop(22)\n",
    "        codigo_barras.pop(33)\n",
    "        codigo_barras.pop(44)\n",
    "        codigo_barras = ''.join(codigo_barras)\n",
    "    # Armazenamento das informações\n",
    "    valor = valor_conta(codigo_barras)\n",
    "    tipo = tipo_conta(codigo_barras)\n",
    "    data_venc = vencimento(codigo_barras)\n",
    "    # Display do resultado\n",
    "    print()\n",
    "    print('----- LEITURA DE CÓDIGO DE BARRAS ----- \\n')\n",
    "    print('Tipo de conta: {}'.format(tipo))\n",
    "    print('Valor da conta: R${:.2f}'.format(valor))\n",
    "    print('Data de vencimento: {} \\n'.format(data_venc))\n",
    "    print('---------------------------------------')"
   ]
  },
  {
   "cell_type": "code",
   "execution_count": 130,
   "id": "ea93bc58",
   "metadata": {
    "scrolled": false
   },
   "outputs": [
    {
     "name": "stdout",
     "output_type": "stream",
     "text": [
      "Leia o código de barras: 83610000000 49120123202 20718046108 00001882658\n",
      "\n",
      "----- LEITURA DE CÓDIGO DE BARRAS ----- \n",
      "\n",
      "Tipo de conta: Energia elétrica e gás\n",
      "Valor da conta: R$49.12\n",
      "Data de vencimento: 18/07/2022 \n",
      "\n",
      "---------------------------------------\n"
     ]
    }
   ],
   "source": [
    "codigo = input('Leia o código de barras: ')\n",
    "\n",
    "leitura(codigo)"
   ]
  }
 ],
 "metadata": {
  "kernelspec": {
   "display_name": "virtual-env",
   "language": "python",
   "name": "python3"
  },
  "language_info": {
   "codemirror_mode": {
    "name": "ipython",
    "version": 3
   },
   "file_extension": ".py",
   "mimetype": "text/x-python",
   "name": "python",
   "nbconvert_exporter": "python",
   "pygments_lexer": "ipython3",
   "version": "3.10.9"
  },
  "vscode": {
   "interpreter": {
    "hash": "8c984bf7f71e5dc77860e4d3fc140c518764bb2bbfb80ee45a433a61fce36bb4"
   }
  }
 },
 "nbformat": 4,
 "nbformat_minor": 5
}
