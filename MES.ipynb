{
 "cells": [
  {
   "cell_type": "markdown",
   "id": "aad3fb72",
   "metadata": {},
   "source": [
    "# Trabalho final automação industrial"
   ]
  },
  {
   "cell_type": "markdown",
   "id": "8e9b01a3",
   "metadata": {},
   "source": [
    "## Funções de leitura do código de barras"
   ]
  },
  {
   "cell_type": "code",
   "execution_count": 24,
   "id": "111caf69",
   "metadata": {},
   "outputs": [],
   "source": [
    "def produto(codigo):\n",
    "    \"\"\"Identifica o componente a ser produzido pelo código de barras\"\"\"\n",
    "    tipo = int(codigo[0])\n",
    "    \n",
    "    if tipo == 1:\n",
    "        produto = 'Produto 1'\n",
    "    elif tipo == 2:\n",
    "        produto = 'Produto 2'\n",
    "    else:\n",
    "        raise Exception('Código inválido! Tipo de produto não cadastrado.')\n",
    "        \n",
    "    return produto"
   ]
  },
  {
   "cell_type": "code",
   "execution_count": 25,
   "id": "ef525491",
   "metadata": {},
   "outputs": [],
   "source": [
    "def quantidade(codigo):\n",
    "    \"\"\"Quantidade do produto a ser produzido\"\"\"\n",
    "    try:\n",
    "        qtd = int(codigo[1:5])\n",
    "        return qtd\n",
    "    except:\n",
    "        raise Exception('Código inválido! Erro na leitura de quantidades.')"
   ]
  },
  {
   "cell_type": "code",
   "execution_count": 26,
   "id": "b43a0ecc",
   "metadata": {},
   "outputs": [],
   "source": [
    "def leitura(codigo):\n",
    "    \"\"\"Função que realiza a leitura do código e retorna o \n",
    "    tipo do produto e quantidade que deve ser produzida\"\"\"\n",
    "    tipo_produto = produto(codigo)\n",
    "    qtd = quantidade(codigo)\n",
    "    \n",
    "    if tipo_produto == 'Produto 1':\n",
    "        temperatura = '20 °C'  # Celsius\n",
    "        pressao = '10 psi' # Psi\n",
    "        velocidade = '10 cm/s'  # cm / s\n",
    "    elif tipo_produto == 'Produto 2':\n",
    "        temperatura = '15°C'\n",
    "        pressao = '8 psi'\n",
    "        velocidade = '12 cm/s'\n",
    "    \n",
    "    return tipo_produto, qtd, temperatura, pressao, velocidade"
   ]
  },
  {
   "cell_type": "markdown",
   "id": "9f4034e7",
   "metadata": {},
   "source": [
    "## Tela"
   ]
  },
  {
   "cell_type": "code",
   "execution_count": 27,
   "id": "4166fdec",
   "metadata": {},
   "outputs": [],
   "source": [
    "def LimpaTela():\n",
    "    print('\\n' * 3)"
   ]
  },
  {
   "cell_type": "code",
   "execution_count": 28,
   "id": "9865ebe1",
   "metadata": {},
   "outputs": [],
   "source": [
    "def Menu():\n",
    "    \"\"\"Menu principal de opções do usuário\"\"\"\n",
    "    opcao = 0\n",
    "    while opcao != 4:\n",
    "        LimpaTela()\n",
    "        print('-'*30)\n",
    "        print('       Tela inicial')\n",
    "        print('-'*30)\n",
    "        print('1 - Cadastro de ordem')\n",
    "        print('-'*30)\n",
    "        print('2 - Iniciar produção')\n",
    "        print('-'*30)\n",
    "        print('3 - Finalizar produção')\n",
    "        print('-'*30)\n",
    "        print('4 - Sair')\n",
    "        print('-'*30)\n",
    "        print('5 - Status das ordens')\n",
    "        print('-'*30)\n",
    "        print('6 - Relatórios')\n",
    "        print('-'*30)\n",
    "        try:\n",
    "            opcao = int(input('Entre com a opção desejada: '))\n",
    "        except:\n",
    "            print('Opção inválida')\n",
    "        \n",
    "        # Mudança para o menu referente à opção\n",
    "        if opcao == 1 or opcao == 2 or opcao == 3 or opcao == 5 or opcao == 6:\n",
    "            print()\n",
    "            TelaCadastro(opcao)"
   ]
  },
  {
   "cell_type": "code",
   "execution_count": 29,
   "id": "7f06dd84",
   "metadata": {},
   "outputs": [],
   "source": [
    "def TelaCadastro(opcao):\n",
    "    \"\"\"Tela de opções específicas chamadas através da função menu\"\"\"\n",
    "    # Cadastro de ordem de produção\n",
    "    if opcao == 1:\n",
    "        print('-'*30)\n",
    "        print('Cadastro de ordem de produção')\n",
    "        print('-'*30)\n",
    "        try:\n",
    "            CadastroOrdem()\n",
    "        except:\n",
    "            print('Ordem inválida!')\n",
    "    \n",
    "    # Iniciar produção\n",
    "    elif opcao == 2:\n",
    "        # Seleciona em qual máquina será feita a produção\n",
    "        print('-'*35)\n",
    "        print('Iniciar a produção de uma ordem')\n",
    "        print('-'*35)\n",
    "        print('1 - Máquina A')\n",
    "        print('2 - Máquina B')\n",
    "        print('-'*30)\n",
    "        try:\n",
    "            maquina = int(input('Insira o código da máquina: '))\n",
    "            print('-'*30)\n",
    "            if maquina == 1: \n",
    "                ProduzirOrdem('A')\n",
    "            elif maquina == 2:\n",
    "                ProduzirOrdem('B')\n",
    "        except:\n",
    "            print('Entrada inválida!')\n",
    "    \n",
    "    # Finalizar produção\n",
    "    elif opcao == 3:\n",
    "        # Seleciona máquina para finalizar produção\n",
    "        print('-'*35)\n",
    "        print('Finalizar a produção de uma ordem')\n",
    "        print('-'*35)\n",
    "        try:\n",
    "            FinalizarOrdem()\n",
    "        except:\n",
    "            print('Entrada inválida!')\n",
    "    \n",
    "    # Listagem de ordens cadastradas\n",
    "    elif opcao == 5:\n",
    "        print('-'*30)\n",
    "        ListaOrdens()\n",
    "        print('-'*30)\n",
    "        \n",
    "    # Emissão de relatórios\n",
    "    elif opcao == 6:\n",
    "        print('-'*35)\n",
    "        print('      Emissão de relatórios')\n",
    "        print('-'*35)\n",
    "        print('1 - Taxa de produção em uma data')\n",
    "        print('-'*35)\n",
    "        print('2 - Tempo de leadtime em uma data')\n",
    "        print('-'*35)\n",
    "        try:\n",
    "            escolha = int(input('Escolha a opção de relatório: '))\n",
    "        except:\n",
    "            print('Escolha inválida!')\n",
    "            escolha = 3\n",
    "        # Taxa de produção de uma máquina em uma data\n",
    "        if escolha == 1:\n",
    "            print('-'*35)\n",
    "            print('1 - Máquina A')\n",
    "            print('2 - Máquina B')\n",
    "            print('-'*30)\n",
    "            try:\n",
    "                maquina = int(input('Insira o código da máquina: '))\n",
    "                print('-'*30)\n",
    "                if maquina == 1: \n",
    "                    TaxaProducao('A')\n",
    "                elif maquina == 2:\n",
    "                    TaxaProducao('B')\n",
    "            except:\n",
    "                print('Entrada inválida!')\n",
    "        # Leadtime das ordens em uma data\n",
    "        elif escolha == 2:\n",
    "            LeadTime()"
   ]
  },
  {
   "cell_type": "markdown",
   "id": "556ed857",
   "metadata": {},
   "source": [
    "## Integração SQL"
   ]
  },
  {
   "cell_type": "code",
   "execution_count": 30,
   "id": "c77a971f",
   "metadata": {},
   "outputs": [],
   "source": [
    "import mysql.connector"
   ]
  },
  {
   "cell_type": "code",
   "execution_count": 31,
   "id": "6d90212e",
   "metadata": {},
   "outputs": [],
   "source": [
    "def ConectaBanco():\n",
    "    \"\"\"Ligação com banco de dados MySQL, inserir seu usuário e senha\"\"\"\n",
    "    cnx = mysql.connector.connect(database='manufatura', host='localhost', user='root', passwd='password')\n",
    "    cnx.autocommit = True\n",
    "    return cnx"
   ]
  },
  {
   "cell_type": "markdown",
   "id": "69254ea1",
   "metadata": {},
   "source": [
    "### Ordens"
   ]
  },
  {
   "cell_type": "code",
   "execution_count": 32,
   "id": "90a84a01",
   "metadata": {},
   "outputs": [],
   "source": [
    "def InsertOrdem(codigo, componente, qtd, status, temperatura, pressao, velocidade):\n",
    "    \"\"\"Cadastra uma ordem de produção no banco de dados\"\"\"\n",
    "    execucao = True\n",
    "    sql = f\"INSERT INTO ordem VALUES ('{codigo}', '{componente}', {qtd}, '{status}', \\\n",
    "                                      '{temperatura}', '{pressao}', '{velocidade}')\"\n",
    "    \n",
    "    try:\n",
    "        cursor.execute(sql)\n",
    "        print('Ordem cadastrada com sucesso!')\n",
    "    except mysql.connector.Error as err:\n",
    "        print(f\"Erro: {err.errno} - {err.msg}\")\n",
    "        execucao = False\n",
    "        \n",
    "    return execucao"
   ]
  },
  {
   "cell_type": "code",
   "execution_count": 33,
   "id": "07d34efa",
   "metadata": {},
   "outputs": [],
   "source": [
    "def CadastroOrdem():\n",
    "    \"\"\"Decodifica o código de barras para cadastro da ordem no banco de dados\"\"\"\n",
    "    codigo = input('Leia o código para cadastro: ')\n",
    "    dados = leitura(codigo)\n",
    "    \n",
    "    componente = dados[0]\n",
    "    qtd = dados[1]\n",
    "    temperatura = dados[2]\n",
    "    pressao = dados[3]\n",
    "    velocidade = dados[4]\n",
    "    status = 'Em fila'\n",
    "    \n",
    "    InsertOrdem(codigo, componente, qtd, status, temperatura, pressao, velocidade)"
   ]
  },
  {
   "cell_type": "code",
   "execution_count": 34,
   "id": "dbf7d883",
   "metadata": {},
   "outputs": [],
   "source": [
    "def ListaOrdens():\n",
    "    \"\"\"Apresenta todas as ordens cadastradas e seus respectivos status\"\"\"\n",
    "    cursor.execute(\"SELECT codigo, status FROM ordem\")\n",
    "    c = cursor.fetchall()\n",
    "\n",
    "    print('Ordens Cadastradas \\n')\n",
    "    for ordem in c:\n",
    "        codigo = ordem[0]\n",
    "        status = ordem[1]\n",
    "        print(f'Código: {codigo}   |   Status: {status}')"
   ]
  },
  {
   "cell_type": "markdown",
   "id": "d640ae9e",
   "metadata": {},
   "source": [
    "### Produção"
   ]
  },
  {
   "cell_type": "code",
   "execution_count": 35,
   "id": "9ddce507",
   "metadata": {},
   "outputs": [],
   "source": [
    "def Status(codigo):\n",
    "    \"\"\"Recebe o código de uma ordem de produção e retorna seu status\"\"\"\n",
    "    cursor.execute(f\"SELECT status FROM ordem WHERE codigo = '{codigo}'\")\n",
    "    c = cursor.fetchone()\n",
    "    return c[0]"
   ]
  },
  {
   "cell_type": "code",
   "execution_count": 36,
   "id": "39c50d0c",
   "metadata": {},
   "outputs": [],
   "source": [
    "def ConsultaOrdem(codigo):\n",
    "    \"\"\"Recupera o componente e a quantidade de produto a serem produzidos a partir de uma ordem cadastrada\"\"\"\n",
    "    cursor.execute(f\"SELECT quantidade, componente FROM ordem WHERE codigo = '{codigo}'\")\n",
    "    c = cursor.fetchone()\n",
    "    quantidade = c[0]\n",
    "    componente = c[1]\n",
    "    return componente, quantidade"
   ]
  },
  {
   "cell_type": "code",
   "execution_count": 37,
   "id": "3cc009a2",
   "metadata": {},
   "outputs": [],
   "source": [
    "def ProduzirOrdem(maquina):\n",
    "    \"\"\"Inicia a produção de uma ordem\"\"\"\n",
    "    codigo = input('Leia a ordem para produção: ')\n",
    "    execucao = True\n",
    "    \n",
    "    status = Status(codigo)\n",
    "    if not(status == 'Em fila' or status == 'Produzida em A'):\n",
    "        return print(f'\\nErro! A ordem já está em produção ou foi produzida. Status da ordem: {status}.')\n",
    "    \n",
    "    if maquina == 'A' and status != 'Produzida em A':\n",
    "        sql = f\"INSERT INTO produz(codigo, id_maquina, t_inicio) VALUES ('{codigo}','{maquina}',NOW())\"\n",
    "    elif maquina == 'B':\n",
    "        if CheckFlow(codigo): \n",
    "            sql = f\"INSERT INTO produz(codigo, id_maquina, t_inicio) VALUES ('{codigo}','{maquina}',NOW())\"\n",
    "        else:\n",
    "            return print('\\nErro! A ordem ainda não foi processada pela máquina A.')\n",
    "    else:\n",
    "        return print('\\nErro! A ordem já foi produzida na máquina A.')\n",
    "    \n",
    "    try:\n",
    "        cursor.execute(sql)\n",
    "        ConfiguraMaquina(codigo, maquina)\n",
    "        produto = ConsultaOrdem(codigo)\n",
    "        print()\n",
    "        print('Em produção: {} unidades de {} na máquina {}'.format(produto[1], produto[0], maquina))\n",
    "        ConfigAtual(codigo, maquina)\n",
    "    except mysql.connector.Error as err:\n",
    "        print(f\"Erro: {err.errno} - {err.msg}\")\n",
    "        execucao = False\n",
    "\n",
    "    AtualizaStatusProcessando(codigo, maquina)\n",
    "    return execucao"
   ]
  },
  {
   "cell_type": "code",
   "execution_count": 38,
   "id": "283e3aab",
   "metadata": {},
   "outputs": [],
   "source": [
    "def AtualizaStatusProcessando(codigo, maquina):\n",
    "    \"\"\"Atualiza o status de processamento das ordens de acordo com a máquina em que são produzidas\"\"\"\n",
    "    execucao = True\n",
    "    \n",
    "    if maquina == 'A':\n",
    "        sql = f\"UPDATE ordem SET status = 'Processando em A' WHERE codigo = '{codigo}'\"\n",
    "    elif maquina == 'B':\n",
    "        sql = f\"UPDATE ordem SET status = 'Processando em B' WHERE codigo = '{codigo}'\"\n",
    "    \n",
    "    try:\n",
    "        cursor.execute(sql)\n",
    "    except mysql.connector.Error as err:\n",
    "        print(f\"Erro: {err.errno} - {err.msg}\")\n",
    "        execucao = False\n",
    "        \n",
    "    return execucao"
   ]
  },
  {
   "cell_type": "code",
   "execution_count": 39,
   "id": "b6ac45b2",
   "metadata": {},
   "outputs": [],
   "source": [
    "def CheckFlow(codigo):\n",
    "    \"\"\"Analisa se o componente associado ao código já foi produzido na máquina A \n",
    "    para ser produzido na máquina B. Retorna verdadeiro ou falso.\"\"\"\n",
    "    codigos = []\n",
    "    cursor.execute(\"SELECT codigo FROM produz WHERE id_maquina = 'A' AND t_fim IS NOT NULL\")\n",
    "    c = cursor.fetchall()\n",
    "    \n",
    "    for i in range(len(c)):\n",
    "        codigos.append(c[i][0])\n",
    "    \n",
    "    return (codigo in codigos) "
   ]
  },
  {
   "cell_type": "code",
   "execution_count": 40,
   "id": "4b0756cb",
   "metadata": {},
   "outputs": [],
   "source": [
    "def FinalizarOrdem():\n",
    "    \"\"\"Finaliza uma ordem de produção que esteja em andamento em qualquer uma das máquinas\"\"\"\n",
    "    codigo = input('Leia a ordem para finalizar a produção: ')\n",
    "    execucao = True\n",
    "    \n",
    "    status = Status(codigo)\n",
    "    if status == 'Processando em A':\n",
    "        sql = f\"UPDATE produz SET t_fim = NOW() WHERE codigo = '{codigo}' AND id_maquina = 'A'\"\n",
    "        maquina = 'A'\n",
    "    elif status == 'Processando em B':\n",
    "        sql = f\"UPDATE produz SET t_fim = NOW() WHERE codigo = '{codigo}' AND id_maquina = 'B'\"\n",
    "        maquina = 'B'\n",
    "    else:\n",
    "        return print('\\nErro! A ordem não está em produção em nenhuma máquina.')\n",
    "    \n",
    "    try:\n",
    "        cursor.execute(sql)\n",
    "        produto = ConsultaOrdem(codigo)\n",
    "        print()\n",
    "        print('Produção finalizada: {} unidades de {} na máquina {}'.format(produto[1], produto[0], maquina))\n",
    "    except mysql.connector.Error as err:\n",
    "        print(f\"Erro: {err.errno} - {err.msg}\")\n",
    "        execucao = False\n",
    "        \n",
    "    AtualizaStatusProduzida(codigo, maquina)\n",
    "    return execucao"
   ]
  },
  {
   "cell_type": "code",
   "execution_count": 41,
   "id": "98a1681b",
   "metadata": {},
   "outputs": [],
   "source": [
    "def AtualizaStatusProduzida(codigo, maquina):\n",
    "    \"\"\"Altera o status da ordem após o processamento\"\"\"\n",
    "    execucao = True\n",
    "    \n",
    "    if maquina == 'A':\n",
    "        sql = f\"UPDATE ordem SET status = 'Produzida em A' WHERE codigo = '{codigo}'\"\n",
    "    elif maquina == 'B': \n",
    "        sql = f\"UPDATE ordem SET status = 'Produzida' WHERE codigo = '{codigo}'\"\n",
    "    \n",
    "    try:\n",
    "        cursor.execute(sql)\n",
    "    except mysql.connector.Error as err:\n",
    "        print(f\"Erro: {err.errno} - {err.msg}\")\n",
    "        execucao = False\n",
    "        \n",
    "    return execucao"
   ]
  },
  {
   "cell_type": "markdown",
   "id": "7d11aad2",
   "metadata": {},
   "source": [
    "### Configuração"
   ]
  },
  {
   "cell_type": "code",
   "execution_count": 42,
   "id": "005cac51",
   "metadata": {},
   "outputs": [],
   "source": [
    "def ConfiguraMaquina(codigo, maquina):\n",
    "    \"\"\"Configuração da máquina\"\"\"\n",
    "    execucao = True\n",
    "    \n",
    "    sql = f\"INSERT INTO configura VALUES ('{codigo}', '{maquina}')\"\n",
    "    \n",
    "    try:\n",
    "        cursor.execute(sql)\n",
    "    except mysql.connector.Error as err:\n",
    "        print(f\"Erro: {err.errno} - {err.msg}\")\n",
    "        execucao = False\n",
    "        \n",
    "    return execucao"
   ]
  },
  {
   "cell_type": "code",
   "execution_count": 43,
   "id": "c44f9e27",
   "metadata": {},
   "outputs": [],
   "source": [
    "def ConfigAtual(codigo, maquina):\n",
    "    \"\"\"Consulta a configuração da máquina\"\"\"\n",
    "    \n",
    "    sql = f\"SELECT configura.codigo, configura.id_maquina, ordem.temperatura, ordem.pressao, ordem.velocidade FROM maquina, ordem, configura WHERE configura.codigo = ordem.codigo AND ordem.codigo = '{codigo}' AND configura.id_maquina = maquina.id_maquina AND maquina.id_maquina = '{maquina}'\"\n",
    "    cursor.execute(sql)\n",
    "    c = cursor.fetchall()\n",
    "    temperatura = c[0][2]\n",
    "    pressao = c[0][3]\n",
    "    velocidade = c[0][4]\n",
    "    return print(f'Configuração da máquina {maquina}: {temperatura}, {pressao}, {velocidade}')"
   ]
  },
  {
   "cell_type": "markdown",
   "id": "1ac911c6",
   "metadata": {},
   "source": [
    "### Relatórios"
   ]
  },
  {
   "cell_type": "code",
   "execution_count": 44,
   "id": "20fff7c4",
   "metadata": {},
   "outputs": [],
   "source": [
    "def TaxaProducao(maquina):\n",
    "    \"\"\"Relatório que fornece a quantidade produzida por segundo em uma máquina em determinado dia\"\"\"\n",
    "    ano = int(input('Insira o ano da consulta: '))\n",
    "    mes = int(input('Insira o número do mês da consulta: '))\n",
    "    dia = int(input('Insira o dia da consulta: '))\n",
    "    print()\n",
    "    try:\n",
    "        cursor.execute(f\"SELECT sum(quantidade)/sum(tempo) AS \\\n",
    "                    taxa_producao_A FROM (SELECT ordem.quantidade,\\\n",
    "                    TIMESTAMPDIFF(second, t_inicio, t_fim) AS tempo FROM produz, \\\n",
    "                    ordem WHERE id_maquina = '{maquina}' AND DATE(t_inicio) = '{ano}-{mes}-{dia}' \\\n",
    "                    AND produz.codigo = ordem.codigo) as t\")\n",
    "        c = cursor.fetchone()\n",
    "        c = float(c[0])\n",
    "        r = f'Foram produzidas {c} unidades por segundo na máquina {maquina} em {dia}/{mes}/{ano}.'\n",
    "    except:\n",
    "        r = 'Não houve produção nessa data.'\n",
    "    \n",
    "    return print(r)"
   ]
  },
  {
   "cell_type": "code",
   "execution_count": 45,
   "id": "fdffe4ba",
   "metadata": {},
   "outputs": [],
   "source": [
    "def LeadTime():\n",
    "    \"\"\"Apresenta a diferença entre o início da produção e a última ordem produzida na fábrica em determinado dia\"\"\"\n",
    "    ano = int(input('Insira o ano da consulta: '))\n",
    "    mes = int(input('Insira o número do mês da consulta: '))\n",
    "    dia = int(input('Insira o dia da consulta: '))\n",
    "    print()\n",
    "    try:\n",
    "        cursor.execute(f\"SELECT TIMESTAMPDIFF(second, min(t_inicio), max(t_fim)) AS\\\n",
    "                lead_time FROM produz WHERE DATE(t_inicio) = '{ano}-{mes}-{dia}'\")\n",
    "        c = cursor.fetchone()\n",
    "        c = float(c[0])\n",
    "        r = f'O tempo de leadtime das ordens em {dia}/{mes}/{ano} foi de {c} segundos, ou {c/60:.2f} minuto(s).'\n",
    "    except:\n",
    "        r = 'Não houve produção nessa data.'\n",
    "    \n",
    "    return print(r)"
   ]
  },
  {
   "cell_type": "markdown",
   "id": "0d05f296",
   "metadata": {},
   "source": [
    "### MES"
   ]
  },
  {
   "cell_type": "code",
   "execution_count": 46,
   "id": "a033a311",
   "metadata": {
    "scrolled": false
   },
   "outputs": [
    {
     "name": "stdout",
     "output_type": "stream",
     "text": [
      "Manufacturing Execution System\n",
      "\n",
      "\n",
      "\n",
      "\n",
      "------------------------------\n",
      "       Tela inicial\n",
      "------------------------------\n",
      "1 - Cadastro de ordem\n",
      "------------------------------\n",
      "2 - Iniciar produção\n",
      "------------------------------\n",
      "3 - Finalizar produção\n",
      "------------------------------\n",
      "4 - Sair\n",
      "------------------------------\n",
      "5 - Status das ordens\n",
      "------------------------------\n",
      "6 - Relatórios\n",
      "------------------------------\n",
      "Entre com a opção desejada: 5\n",
      "\n",
      "------------------------------\n",
      "Ordens Cadastradas \n",
      "\n",
      "Código: 1231   |   Status: Produzida\n",
      "Código: 1433   |   Status: Produzida em A\n",
      "Código: 2312   |   Status: Processando em B\n",
      "Código: 2333   |   Status: Em fila\n",
      "------------------------------\n",
      "\n",
      "\n",
      "\n",
      "\n",
      "------------------------------\n",
      "       Tela inicial\n",
      "------------------------------\n",
      "1 - Cadastro de ordem\n",
      "------------------------------\n",
      "2 - Iniciar produção\n",
      "------------------------------\n",
      "3 - Finalizar produção\n",
      "------------------------------\n",
      "4 - Sair\n",
      "------------------------------\n",
      "5 - Status das ordens\n",
      "------------------------------\n",
      "6 - Relatórios\n",
      "------------------------------\n",
      "Entre com a opção desejada: 4\n"
     ]
    }
   ],
   "source": [
    "if __name__ == \"__main__\":\n",
    "    cnx = ConectaBanco()\n",
    "    if cnx.is_connected:\n",
    "        print('Manufacturing Execution System')\n",
    "        cursor = cnx.cursor()\n",
    "        Menu()          \n",
    "    else:\n",
    "        print(\"Erro, banco de dados não conectado\")\n",
    "    cnx.close()"
   ]
  }
 ],
 "metadata": {
  "kernelspec": {
   "display_name": "Python 3 (ipykernel)",
   "language": "python",
   "name": "python3"
  },
  "language_info": {
   "codemirror_mode": {
    "name": "ipython",
    "version": 3
   },
   "file_extension": ".py",
   "mimetype": "text/x-python",
   "name": "python",
   "nbconvert_exporter": "python",
   "pygments_lexer": "ipython3",
   "version": "3.10.9"
  },
  "vscode": {
   "interpreter": {
    "hash": "8c984bf7f71e5dc77860e4d3fc140c518764bb2bbfb80ee45a433a61fce36bb4"
   }
  }
 },
 "nbformat": 4,
 "nbformat_minor": 5
}
